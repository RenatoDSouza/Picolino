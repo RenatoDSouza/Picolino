{
 "cells": [
  {
   "cell_type": "code",
   "execution_count": 2,
   "metadata": {},
   "outputs": [
    {
     "ename": "SyntaxError",
     "evalue": "invalid syntax (2307961772.py, line 46)",
     "output_type": "error",
     "traceback": [
      "\u001b[1;36m  Cell \u001b[1;32mIn[2], line 46\u001b[1;36m\u001b[0m\n\u001b[1;33m    nome_referencia = #Nome Arquivo Referencia\u001b[0m\n\u001b[1;37m                      ^\u001b[0m\n\u001b[1;31mSyntaxError\u001b[0m\u001b[1;31m:\u001b[0m invalid syntax\n"
     ]
    }
   ],
   "source": [
    "import numpy as np\n",
    "import matplotlib.pyplot as plt\n",
    "import pandas as pd\n",
    "\n",
    "lista_unica = [33.0, 36.4, 39.2, 54.5, 56.6, 63.3, 67.1, 69.2]\n",
    "    # para o indio [33.0, 36.4, 39.2, 54.5, 56.6, 63.3, 67.1, 69.2]\n",
    "    # para o oxido de indio [21.51, 30.66, 35.55, 41.96, 45.81, 51.16, 60.84]\n",
    "\n",
    "# Funcao para determinar uma regiao ao redor de um ponto de interesse\n",
    "def definir_regioes(lista, largura=0.5):\n",
    "    regioes = [(x - largura, x + largura) for x in lista]\n",
    "    return regioes\n",
    "\n",
    "# Definir as regioes de varredura\n",
    "regioes_lista_unica = definir_regioes(lista_unica, 0.15)\n",
    "\n",
    "# Funcao para encontrar maximos nas regioes definidas\n",
    "def encontrar_maximos(dado, regioes):\n",
    "    resultados = {}\n",
    "    # CU DO MUNDO\n",
    "    for i, (inicio, fim) in enumerate(regioes):\n",
    "        # Filtrar os dados dentro da regiao\n",
    "        subset = dado[(dado['2theta'] > inicio) & (dado['2theta'] <= fim)]\n",
    "\n",
    "        # Encontrar o maximo da coluna 'Intensidade'\n",
    "        if not subset.empty:\n",
    "            max_valor = subset['Intensidade'].max()\n",
    "            max_index = subset['Intensidade'].idxmax()\n",
    "            max_2theta = dado.loc[max_index, '2theta']\n",
    "\n",
    "            # Armazenar o resultado\n",
    "            resultados[f'Regiao {i+1} ({inicio}-{fim})'] = {\n",
    "                '2theta': max_2theta,\n",
    "                'Intensidade': max_valor,\n",
    "            }\n",
    "        else:\n",
    "            resultados[f'Regiao {i+1} ({inicio}-{fim})'] = {\n",
    "                '2theta': None,\n",
    "                'Intensidade': None,\n",
    "            }\n",
    "\n",
    "    return pd.DataFrame(resultados).T\n",
    "\n",
    "    \n",
    "# Nome do arquivo referencia (Ficha cristalografica)\n",
    "nome_referencia = #Nome Arquivo Referencia\n",
    "\n",
    "dados_referencia = pd.read_csv(nome_referencia, sep=',', header=None)\n",
    "dados_referencia.columns = ['2theta', 'Intensidade']\n",
    "\n",
    "# Normalizar dados de referencia\n",
    "dados_referencia['Intensidade'] = dados_referencia['Intensidade'] / dados_referencia['Intensidade'].max()\n",
    "\n",
    "# Encontrar maximos para cada lista\n",
    "dados_referencia = encontrar_maximos(dados_referencia, regioes_lista_unica)\n",
    "\n",
    "# Remover duplicatas\n",
    "dados_referencia.drop_duplicates(inplace=True, subset='2theta')\n",
    "\n",
    "# Carregar os dados\n",
    "nome_experimento = #Nome arquivo para a analise\n",
    "dados_experimento = pd.read_csv(nome_experimento, sep='\\s+', header=None)\n",
    "dados_experimento.columns = ['2theta', 'Intensidade']\n",
    "dados_experimento.drop_duplicates(inplace=True, subset='2theta')\n",
    "dados_experimento.reset_index(inplace=True)\n",
    "\n",
    "# Normalizar a intensidade\n",
    "dados_experimento['Intensidade'] = dados_experimento['Intensidade'] / dados_experimento['Intensidade'].max()\n",
    "\n",
    "# Encontrar maximos para cada lista\n",
    "dados_experimento = encontrar_maximos(dados_experimento, regioes_lista_unica)\n",
    "\n",
    "dados_finais = dados_referencia[['2theta','Intensidade']]\n",
    "dados_finais.rename(columns = {'Intensidade':'Intensidade Referencia'}, inplace = True)\n",
    "dados_finais['Intensidade Experimento'] = dados_experimento['Intensidade']\n",
    "\n",
    "constate = 0\n",
    "for i in range(0, len(dados_experimento['2theta'])):\n",
    "    constate += dados_experimento['Intensidade'].iloc[i] / dados_referencia['Intensidade'].iloc[i]\n",
    "constante = constate / len(dados_experimento['2theta'])\n",
    "dados_finais['Coeficiente'] = dados_finais['Intensidade Experimento'] / dados_finais['Intensidade Referencia'] / constante\n",
    "dados_finais[['2theta', 'Coeficiente']] "
   ]
  },
  {
   "cell_type": "code",
   "execution_count": null,
   "metadata": {},
   "outputs": [],
   "source": [
    "poetry new picolino-detector\n",
    "cd picolino-detector\n",
    "poetry add numpy pandas matplotlib"
   ]
  }
 ],
 "metadata": {
  "kernelspec": {
   "display_name": "base",
   "language": "python",
   "name": "python3"
  },
  "language_info": {
   "codemirror_mode": {
    "name": "ipython",
    "version": 3
   },
   "file_extension": ".py",
   "mimetype": "text/x-python",
   "name": "python",
   "nbconvert_exporter": "python",
   "pygments_lexer": "ipython3",
   "version": "3.12.7"
  }
 },
 "nbformat": 4,
 "nbformat_minor": 2
}
